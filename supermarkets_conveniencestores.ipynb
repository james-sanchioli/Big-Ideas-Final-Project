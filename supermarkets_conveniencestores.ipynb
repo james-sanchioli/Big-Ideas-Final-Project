{
 "cells": [
  {
   "cell_type": "markdown",
   "metadata": {},
   "source": [
    "### Supermarket Analysis"
   ]
  },
  {
   "cell_type": "code",
   "execution_count": 29,
   "metadata": {},
   "outputs": [
    {
     "data": {
      "text/html": [
       "<div>\n",
       "<style scoped>\n",
       "    .dataframe tbody tr th:only-of-type {\n",
       "        vertical-align: middle;\n",
       "    }\n",
       "\n",
       "    .dataframe tbody tr th {\n",
       "        vertical-align: top;\n",
       "    }\n",
       "\n",
       "    .dataframe thead th {\n",
       "        text-align: right;\n",
       "    }\n",
       "</style>\n",
       "<table border=\"1\" class=\"dataframe\">\n",
       "  <thead>\n",
       "    <tr style=\"text-align: right;\">\n",
       "      <th></th>\n",
       "      <th>Client ID</th>\n",
       "      <th>Name</th>\n",
       "      <th>Legal Name</th>\n",
       "      <th>Start Date</th>\n",
       "      <th>Street #</th>\n",
       "      <th>Street Name</th>\n",
       "      <th>State</th>\n",
       "      <th>Zip</th>\n",
       "      <th>Lat</th>\n",
       "      <th>Lon</th>\n",
       "      <th>Accuracy</th>\n",
       "      <th>Category</th>\n",
       "    </tr>\n",
       "  </thead>\n",
       "  <tbody>\n",
       "    <tr>\n",
       "      <th>0</th>\n",
       "      <td>201211150002</td>\n",
       "      <td>Avalon Fuel</td>\n",
       "      <td>Avalon Fuel Company</td>\n",
       "      <td>10/26/2012</td>\n",
       "      <td>901</td>\n",
       "      <td>Ohio River Blvd</td>\n",
       "      <td>PA</td>\n",
       "      <td>15202</td>\n",
       "      <td>40.495759</td>\n",
       "      <td>-80.066508</td>\n",
       "      <td>9</td>\n",
       "      <td>Convenience Store</td>\n",
       "    </tr>\n",
       "    <tr>\n",
       "      <th>1</th>\n",
       "      <td>201511040005</td>\n",
       "      <td>Ez Energy #303/7Eleven #36183H</td>\n",
       "      <td>Neelkanth Ansh Enterprises Inc</td>\n",
       "      <td>10/26/2015</td>\n",
       "      <td>209</td>\n",
       "      <td>Ohio River Blvd</td>\n",
       "      <td>PA</td>\n",
       "      <td>15143</td>\n",
       "      <td>40.545418</td>\n",
       "      <td>-80.194152</td>\n",
       "      <td>9</td>\n",
       "      <td>Convenience Store</td>\n",
       "    </tr>\n",
       "    <tr>\n",
       "      <th>2</th>\n",
       "      <td>201212130003</td>\n",
       "      <td>EZ Energy #311 / 7 Eleven #36191H</td>\n",
       "      <td>7 Eleven Inc</td>\n",
       "      <td>12/3/2012</td>\n",
       "      <td>8136</td>\n",
       "      <td>Ohio River Blvd</td>\n",
       "      <td>PA</td>\n",
       "      <td>15202</td>\n",
       "      <td>40.510522</td>\n",
       "      <td>-80.094268</td>\n",
       "      <td>9</td>\n",
       "      <td>Convenience Store</td>\n",
       "    </tr>\n",
       "    <tr>\n",
       "      <th>3</th>\n",
       "      <td>201211190006</td>\n",
       "      <td>Getgo #3646 / Crafton - Ingram</td>\n",
       "      <td>Giant Eagle Inc</td>\n",
       "      <td>11/15/2012</td>\n",
       "      <td>280</td>\n",
       "      <td>Crafton Ingram Shopping circle</td>\n",
       "      <td>PA</td>\n",
       "      <td>15205</td>\n",
       "      <td>41.203322</td>\n",
       "      <td>-77.194525</td>\n",
       "      <td>3</td>\n",
       "      <td>Convenience Store</td>\n",
       "    </tr>\n",
       "    <tr>\n",
       "      <th>4</th>\n",
       "      <td>53583</td>\n",
       "      <td>Mt NeBlvd Texaco</td>\n",
       "      <td>Mt NeBlvd Texaco</td>\n",
       "      <td>6/2/1995</td>\n",
       "      <td>1706</td>\n",
       "      <td>Mt Nebo Rd</td>\n",
       "      <td>PA</td>\n",
       "      <td>15143</td>\n",
       "      <td>40.553281</td>\n",
       "      <td>-80.109158</td>\n",
       "      <td>8</td>\n",
       "      <td>Convenience Store</td>\n",
       "    </tr>\n",
       "    <tr>\n",
       "      <th>5</th>\n",
       "      <td>201304220008</td>\n",
       "      <td>Radokovic Marathon</td>\n",
       "      <td>Radokovic Enterprises LlC</td>\n",
       "      <td>4/16/2013</td>\n",
       "      <td>1826</td>\n",
       "      <td>Lincoln Highway</td>\n",
       "      <td>PA</td>\n",
       "      <td>15137</td>\n",
       "      <td>40.367923</td>\n",
       "      <td>-79.780429</td>\n",
       "      <td>9</td>\n",
       "      <td>Convenience Store</td>\n",
       "    </tr>\n",
       "    <tr>\n",
       "      <th>6</th>\n",
       "      <td>200002290002</td>\n",
       "      <td>Sunoco #7544</td>\n",
       "      <td>Sunoco Inc R&amp;M</td>\n",
       "      <td>2/2/2000</td>\n",
       "      <td>1201</td>\n",
       "      <td>Airport Blvdulevard</td>\n",
       "      <td>PA</td>\n",
       "      <td>15231</td>\n",
       "      <td>40.494177</td>\n",
       "      <td>-80.267208</td>\n",
       "      <td>9</td>\n",
       "      <td>Convenience Store</td>\n",
       "    </tr>\n",
       "    <tr>\n",
       "      <th>7</th>\n",
       "      <td>52845</td>\n",
       "      <td>Sunoco A Plus Mini Market #8154</td>\n",
       "      <td>NaN</td>\n",
       "      <td>10/25/1994</td>\n",
       "      <td>5204</td>\n",
       "      <td>Interbo Ave</td>\n",
       "      <td>PA</td>\n",
       "      <td>15207</td>\n",
       "      <td>40.370214</td>\n",
       "      <td>-79.913195</td>\n",
       "      <td>9</td>\n",
       "      <td>Convenience Store</td>\n",
       "    </tr>\n",
       "  </tbody>\n",
       "</table>\n",
       "</div>"
      ],
      "text/plain": [
       "      Client ID                               Name  \\\n",
       "0  201211150002                        Avalon Fuel   \n",
       "1  201511040005     Ez Energy #303/7Eleven #36183H   \n",
       "2  201212130003  EZ Energy #311 / 7 Eleven #36191H   \n",
       "3  201211190006     Getgo #3646 / Crafton - Ingram   \n",
       "4         53583                   Mt NeBlvd Texaco   \n",
       "5  201304220008                 Radokovic Marathon   \n",
       "6  200002290002                       Sunoco #7544   \n",
       "7         52845    Sunoco A Plus Mini Market #8154   \n",
       "\n",
       "                       Legal Name  Start Date Street #  \\\n",
       "0             Avalon Fuel Company  10/26/2012      901   \n",
       "1  Neelkanth Ansh Enterprises Inc  10/26/2015      209   \n",
       "2                    7 Eleven Inc   12/3/2012     8136   \n",
       "3                 Giant Eagle Inc  11/15/2012      280   \n",
       "4                Mt NeBlvd Texaco    6/2/1995     1706   \n",
       "5       Radokovic Enterprises LlC   4/16/2013     1826   \n",
       "6                  Sunoco Inc R&M    2/2/2000     1201   \n",
       "7                             NaN  10/25/1994     5204   \n",
       "\n",
       "                      Street Name State    Zip        Lat         Lon  \\\n",
       "0                 Ohio River Blvd    PA  15202  40.495759  -80.066508   \n",
       "1                 Ohio River Blvd    PA  15143  40.545418  -80.194152   \n",
       "2                 Ohio River Blvd    PA  15202  40.510522  -80.094268   \n",
       "3  Crafton Ingram Shopping circle    PA  15205  41.203322  -77.194525   \n",
       "4                      Mt Nebo Rd    PA  15143  40.553281  -80.109158   \n",
       "5                 Lincoln Highway    PA  15137  40.367923  -79.780429   \n",
       "6             Airport Blvdulevard    PA  15231  40.494177  -80.267208   \n",
       "7                     Interbo Ave    PA  15207  40.370214  -79.913195   \n",
       "\n",
       "  Accuracy           Category  \n",
       "0        9  Convenience Store  \n",
       "1        9  Convenience Store  \n",
       "2        9  Convenience Store  \n",
       "3        3  Convenience Store  \n",
       "4        8  Convenience Store  \n",
       "5        9  Convenience Store  \n",
       "6        9  Convenience Store  \n",
       "7        9  Convenience Store  "
      ]
     },
     "execution_count": 29,
     "metadata": {},
     "output_type": "execute_result"
    }
   ],
   "source": [
    "import pandas as pd\n",
    "import numpy as np\n",
    "\n",
    "supAndCon = pd.read_csv(\"data-conveniencesupermarkets.csv\", sep=\",\", dtype = str)\n",
    "supAndCon.head(8)"
   ]
  },
  {
   "cell_type": "markdown",
   "metadata": {},
   "source": [
    "### Access to Food - Supermarkets and Convience Stores in Pittsburgh \n",
    "\n",
    "Having access to food is imperative for any healthy community- and with the data provided from the WPRDC we have looked into which neighborhoods have the easiest access to supermarkets and convenience stores. Easiest access to a healthy food involves having the most supermarket options, not just a higher level of convenience stores. "
   ]
  },
  {
   "cell_type": "markdown",
   "metadata": {},
   "source": [
    "### List of Zipcodes"
   ]
  },
  {
   "cell_type": "code",
   "execution_count": 3,
   "metadata": {},
   "outputs": [
    {
     "name": "stdout",
     "output_type": "stream",
     "text": [
      "['15202' '15143' '15205' '15137' '15231' '15207' '15101' '15112' '15229'\n",
      " '15222' '15210' '15104' '15146' '15132' '15219' '15024' '15208' '15237'\n",
      " '15239' '15025' '15120' '15217' '15129' '15014' '15037' '15218' '15214'\n",
      " '15236' '15227' '15232' '15108' '15145' '15235' '15035' '15144' '15034'\n",
      " '15026' '15131' '15106' '15221' '15241' '15228' '15206' '15065' '15204'\n",
      " '15088' '15147' '15223' '16046' '15234' '15090' '15045' '15133' '15212'\n",
      " '15084' '15226' '15110' '15116' '15136' '15071' '15044' '15213' '15201'\n",
      " '15225' '15220' '15017' '15233' '15086' '15135' '15203' '15224' '15209'\n",
      " '15238' '15216' '15215' '15102' '15211' '15122' '15140' '15046' '15139'\n",
      " '15142' '15282' '15030' '15057' '15018' '15056' '15127' '15275' '15076'\n",
      " nan]\n"
     ]
    },
    {
     "data": {
      "text/plain": [
       "91"
      ]
     },
     "execution_count": 3,
     "metadata": {},
     "output_type": "execute_result"
    }
   ],
   "source": [
    "print(supAndCon['Zip'].unique())\n",
    "len(supAndCon['Zip'].unique())"
   ]
  },
  {
   "cell_type": "markdown",
   "metadata": {},
   "source": [
    "There are 91 total zipcodes present in the supermarket and convenience store csv! "
   ]
  },
  {
   "cell_type": "code",
   "execution_count": 9,
   "metadata": {},
   "outputs": [],
   "source": [
    "import pandas as pd\n",
    "import numpy as np\n",
    "%matplotlib inline\n",
    "import matplotlib.pyplot as plt\n"
   ]
  },
  {
   "cell_type": "markdown",
   "metadata": {},
   "source": [
    "### Creating the DataFrame"
   ]
  },
  {
   "cell_type": "markdown",
   "metadata": {},
   "source": [
    "I narrowed the columns I am using down to the zipcodes and presence of supermarkets and convienence stores only.I counted how many convenience stores and supermarkets were in each zipcode, then made a total list of combining both convenience stores and zipcodes. "
   ]
  },
  {
   "cell_type": "code",
   "execution_count": 19,
   "metadata": {},
   "outputs": [
    {
     "name": "stdout",
     "output_type": "stream",
     "text": [
      "0       True\n",
      "1       True\n",
      "2       True\n",
      "3       True\n",
      "4       True\n",
      "       ...  \n",
      "667    False\n",
      "668    False\n",
      "669    False\n",
      "670    False\n",
      "671    False\n",
      "Name: Category, Length: 672, dtype: bool\n"
     ]
    }
   ],
   "source": [
    "df = pd.DataFrame(supAndCon.iloc[:, np.r_[7,11]])\n",
    "df\n",
    "query_mask_CS = supAndCon['Category'] == \"Convenience Store\"\n",
    "query_mask_S = supAndCon['Category'] == \"Supermarket\"\n",
    "\n",
    "print(query_mask_CS)"
   ]
  },
  {
   "cell_type": "code",
   "execution_count": 8,
   "metadata": {},
   "outputs": [
    {
     "name": "stdout",
     "output_type": "stream",
     "text": [
      "       Zip           Category  amount\n",
      "135  15237  Convenience Store      18\n",
      "111  15222  Convenience Store      17\n",
      "38   15108  Convenience Store      16\n",
      "57   15136  Convenience Store      16\n",
      "105  15219  Convenience Store      16\n",
      "89   15210  Convenience Store      14\n",
      "69   15146  Convenience Store      14\n",
      "93   15212  Convenience Store      14\n",
      "95   15213  Convenience Store      14\n",
      "109  15221  Convenience Store      13\n",
      "53   15132  Convenience Store      13\n",
      "82   15206  Convenience Store      13\n",
      "133  15236  Convenience Store      12\n",
      "131  15235  Convenience Store      11\n",
      "119  15227  Convenience Store      10\n",
      "      Zip  amounts\n",
      "83  15237       28\n",
      "46  15146       22\n",
      "69  15222       21\n",
      "35  15132       19\n",
      "26  15108       19\n",
      "57  15210       18\n",
      "66  15219       17\n",
      "60  15213       17\n",
      "59  15212       17\n",
      "38  15136       17\n",
      "53  15206       17\n",
      "82  15236       16\n",
      "81  15235       16\n",
      "68  15221       16\n",
      "31  15122       15\n"
     ]
    }
   ],
   "source": [
    "count = df.groupby(['Zip', 'Category']).size().to_frame().reset_index().rename(columns={0:\"amount\"})\n",
    "count.sort_values(\"amount\", axis = 0, ascending = False, inplace = True, na_position ='last')\n",
    "print(count.head(15))\n",
    "count_total = df.groupby(['Zip']).size().to_frame().reset_index().rename(columns={0:\"amounts\"})\n",
    "count_total.sort_values(\"amounts\", axis = 0, ascending = False, inplace = True, na_position ='last')\n",
    "print(count_total.head(15))"
   ]
  },
  {
   "cell_type": "markdown",
   "metadata": {},
   "source": [
    "### Making a Horizontal Bar Graph"
   ]
  },
  {
   "cell_type": "code",
   "execution_count": 10,
   "metadata": {},
   "outputs": [
    {
     "data": {
      "text/plain": [
       "<Figure size 432x288 with 0 Axes>"
      ]
     },
     "metadata": {},
     "output_type": "display_data"
    },
    {
     "data": {
      "image/png": "[encoded data removed]",
      "text/plain": [
       "<Figure size 1080x576 with 1 Axes>"
      ]
     },
     "metadata": {},
     "output_type": "display_data"
    }
   ],
   "source": [
    "plt.tight_layout()\n",
    "plt.style.use(\"ggplot\")\n",
    "chart_values = count[count[\"amount\"] > 0].sort_values('amount')\n",
    "chart_values.plot.barh(x=\"Zip\",y=\"amount\",figsize=(15,8))\n",
    "plt.savefig(\"zipVStores.png\")"
   ]
  },
  {
   "cell_type": "markdown",
   "metadata": {},
   "source": [
    "### Supermarkets vs Convenience Stores\n",
    "\n",
    "What are the amount of supermarkets compared to convenience stores?"
   ]
  },
  {
   "cell_type": "code",
   "execution_count": 11,
   "metadata": {},
   "outputs": [
    {
     "data": {
      "text/plain": [
       "<matplotlib.axes._subplots.AxesSubplot at 0x7fa089b71880>"
      ]
     },
     "execution_count": 11,
     "metadata": {},
     "output_type": "execute_result"
    },
    {
     "data": {
      "image/png": "[encoded data removed]",
      "text/plain": [
       "<Figure size 576x288 with 1 Axes>"
      ]
     },
     "metadata": {},
     "output_type": "display_data"
    }
   ],
   "source": [
    "count[\"Category\"].value_counts().sort_index().plot.pie(y='Category', \n",
    "                                                  subplots=False, \n",
    "                                                  figsize=(8, 4))"
   ]
  },
  {
   "cell_type": "markdown",
   "metadata": {},
   "source": [
    "Covenience Stores are 76.9% of total shopping options while consist of Supermarkets = 23.1%. \n"
   ]
  },
  {
   "cell_type": "markdown",
   "metadata": {},
   "source": [
    "### Convenience Store and Supermarket Data Conclusion"
   ]
  },
  {
   "cell_type": "markdown",
   "metadata": {},
   "source": [
    "- 15237 --> Franklin Park, Townships of Ross & McCandless\n",
    "- 15146 --> Monroeville\n",
    "- 15222 --> Downtown\n",
    "- 15132 --> McKeesport\n",
    "- 15108 --> Coraopolis"
   ]
  },
  {
   "cell_type": "markdown",
   "metadata": {},
   "source": [
    "The best neighborhoods for convenience of access to a store is Franklin Park and the Townships of Ross and McCandless. Located in the suburbs of Pittsburgh, it's the clear winner. Next is Monroeville followed by downtown, McKeesport and Coraopolis. These neighborhoods have the highest convenience level to acquiring food, as I looked at total counts on accessibility. However, Franklin, Ross and McCandless are clear winners in supermarkets as well, with the highest access to healthy options overall.  "
   ]
  },
  {
   "cell_type": "code",
   "execution_count": null,
   "metadata": {},
   "outputs": [],
   "source": []
  }
 ],
 "metadata": {
  "kernelspec": {
   "display_name": "Python 3",
   "language": "python",
   "name": "python3"
  },
  "language_info": {
   "codemirror_mode": {
    "name": "ipython",
    "version": 3
   },
   "file_extension": ".py",
   "mimetype": "text/x-python",
   "name": "python",
   "nbconvert_exporter": "python",
   "pygments_lexer": "ipython3",
   "version": "3.8.3"
  }
 },
 "nbformat": 4,
 "nbformat_minor": 4
}
